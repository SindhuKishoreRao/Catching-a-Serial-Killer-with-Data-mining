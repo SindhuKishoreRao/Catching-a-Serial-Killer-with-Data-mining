{
 "cells": [
  {
   "cell_type": "code",
   "execution_count": 4,
   "id": "ec87a1c0-78c1-434a-b899-6a9f725f981e",
   "metadata": {},
   "outputs": [],
   "source": [
    "from matplotlib import pyplot as plt\n",
    "import numpy as np"
   ]
  },
  {
   "cell_type": "code",
   "execution_count": 5,
   "id": "81d88a64-7d50-40b2-afd1-49d5235d14fe",
   "metadata": {},
   "outputs": [],
   "source": [
    "age = [13, 15, 16, 16, 19, 20, 20, 21, 22, 22, 25, 25, 25, 25, 30, 33, 33, 35, 35, 35, 35, 36, 40, 45, 46, 52, 70]"
   ]
  },
  {
   "cell_type": "code",
   "execution_count": 6,
   "id": "69e2a4cf-04b4-4a59-812f-2da89855e4f4",
   "metadata": {},
   "outputs": [
    {
     "data": {
      "image/png": "[encoded data removed]",
      "text/plain": [
       "<Figure size 1000x700 with 1 Axes>"
      ]
     },
     "metadata": {},
     "output_type": "display_data"
    }
   ],
   "source": [
    "# Creating histogram\n",
    "fig, ax = plt.subplots(figsize =(10, 7))\n",
    "ax.hist(age, bins = 10)\n",
    " \n",
    "# Show plot\n",
    "plt.show()"
   ]
  },
  {
   "cell_type": "code",
   "execution_count": 13,
   "id": "8817dcc1-f96f-4a6c-abf7-c362c277590c",
   "metadata": {},
   "outputs": [
    {
     "data": {
      "text/plain": [
       "[20, 30, 52, 22, 33]"
      ]
     },
     "execution_count": 13,
     "metadata": {},
     "output_type": "execute_result"
    }
   ],
   "source": [
    "#SRSWOR\n",
    "import random\n",
    "\n",
    "random.sample(age, 5)"
   ]
  },
  {
   "cell_type": "code",
   "execution_count": 14,
   "id": "b8c4a6f5-7bb1-4cb0-b5f2-eae9ef981073",
   "metadata": {},
   "outputs": [
    {
     "data": {
      "text/plain": [
       "[30, 21, 52, 25]"
      ]
     },
     "execution_count": 14,
     "metadata": {},
     "output_type": "execute_result"
    }
   ],
   "source": [
    "#SRSWR\n",
    "from random import choices\n",
    "\n",
    "choices(age, k=4)"
   ]
  },
  {
   "cell_type": "code",
   "execution_count": 22,
   "id": "0dba1f08-3ff3-4fcd-9cb5-baadd92424ba",
   "metadata": {},
   "outputs": [
    {
     "name": "stdout",
     "output_type": "stream",
     "text": [
      "   name  age\n",
      "2     C   16\n",
      "9     J   22\n",
      "4     E   19\n",
      "14    O   30\n",
      "17    R   35\n",
      "18    S   35\n",
      "8     I   22\n",
      "7     H   21\n",
      "6     G   20\n",
      "16    Q   33\n"
     ]
    }
   ],
   "source": [
    "#Cluster Sampling\n",
    "import pandas as pd\n",
    "import numpy as np\n",
    "\n",
    "df = pd.DataFrame({'name': list('ABCDEFGHIJKLMNOPQRSTUVWXYZ0'),\n",
    "                   'age': age})\n",
    "df.head()\n",
    "\n",
    "# sample of data\n",
    "samples = df.sample(10)\n",
    "print(samples)"
   ]
  },
  {
   "cell_type": "code",
   "execution_count": null,
   "id": "94d3520c-ef6a-4b9d-a449-1c9d39a9cf21",
   "metadata": {},
   "outputs": [],
   "source": []
  }
 ],
 "metadata": {
  "kernelspec": {
   "display_name": "Python 3 (ipykernel)",
   "language": "python",
   "name": "python3"
  },
  "language_info": {
   "codemirror_mode": {
    "name": "ipython",
    "version": 3
   },
   "file_extension": ".py",
   "mimetype": "text/x-python",
   "name": "python",
   "nbconvert_exporter": "python",
   "pygments_lexer": "ipython3",
   "version": "3.7.15"
  }
 },
 "nbformat": 4,
 "nbformat_minor": 5
}
